{
  "nbformat": 4,
  "nbformat_minor": 0,
  "metadata": {
    "colab": {
      "provenance": [],
      "gpuType": "T4"
    },
    "kernelspec": {
      "name": "python3",
      "display_name": "Python 3"
    },
    "language_info": {
      "name": "python"
    },
    "accelerator": "GPU"
  },
  "cells": [
    {
      "cell_type": "code",
      "execution_count": null,
      "metadata": {
        "id": "u1u5PCPMoTyO"
      },
      "outputs": [],
      "source": [
        "pip install requests beautifulsoup4 google-generativeai gradio google-search-results --quiet\n"
      ]
    },
    {
      "cell_type": "code",
      "source": [
        "from serpapi import GoogleSearch\n",
        "\n",
        "SERPAPI_KEY = \"Here\"\n",
        "\n",
        "def google_search(query):\n",
        "    params = {\"q\": query, \"api_key\": SERPAPI_KEY, \"num\": 5}\n",
        "    search = GoogleSearch(params)\n",
        "    results = search.get_dict()\n",
        "\n",
        "    if \"organic_results\" in results:\n",
        "        return results[\"organic_results\"][0][\"title\"], results[\"organic_results\"][0][\"link\"]\n",
        "\n",
        "    return None, None\n",
        "\n",
        "# Test Google Search\n",
        "print(google_search(\"latest AI news\"))\n"
      ],
      "metadata": {
        "colab": {
          "base_uri": "https://localhost:8080/"
        },
        "id": "YuFd74jzo4PN",
        "outputId": "5776ceae-dcf3-4226-a7f5-fd0a3f9918a3"
      },
      "execution_count": null,
      "outputs": [
        {
          "output_type": "stream",
          "name": "stdout",
          "text": [
            "('AI News | Latest AI News, Analysis & Events', 'https://www.artificialintelligence-news.com/')\n"
          ]
        }
      ]
    },
    {
      "cell_type": "code",
      "source": [
        "import requests\n",
        "import json\n",
        "\n",
        "GEMINI_API_KEY = \"Here\"\n",
        "\n",
        "def ask_gemini(prompt):\n",
        "    url = f\"https://generativelanguage.googleapis.com/v1beta/models/gemini-2.0-flash:generateContent?key={GEMINI_API_KEY}\"\n",
        "\n",
        "    headers = {\"Content-Type\": \"application/json\"}\n",
        "    data = {\"contents\": [{\"parts\": [{\"text\": prompt}]}]}\n",
        "\n",
        "    response = requests.post(url, headers=headers, data=json.dumps(data))\n",
        "\n",
        "    if response.status_code == 200:\n",
        "        return response.json()[\"candidates\"][0][\"content\"][\"parts\"][0][\"text\"]\n",
        "    else:\n",
        "        return f\"Error: {response.status_code}, {response.text}\"\n",
        "\n",
        "# Test Gemini AI\n",
        "print(ask_gemini(\"Explain how AI works\"))\n"
      ],
      "metadata": {
        "colab": {
          "base_uri": "https://localhost:8080/"
        },
        "id": "16y8IGlUo89q",
        "outputId": "0315a53c-eaaa-4827-baa2-820fa46f4fb4"
      },
      "execution_count": null,
      "outputs": [
        {
          "output_type": "stream",
          "name": "stdout",
          "text": [
            "Alright, let's break down how AI works, without getting too bogged down in technical jargon. Think of it as teaching a computer to think and learn like a human (to some degree, at least!).\n",
            "\n",
            "**The Core Idea:**\n",
            "\n",
            "At its heart, AI is about enabling computers to perform tasks that typically require human intelligence. This includes things like:\n",
            "\n",
            "*   **Learning:**  Improving performance over time based on data.\n",
            "*   **Reasoning:**  Drawing conclusions and making decisions.\n",
            "*   **Problem-solving:** Finding solutions to complex issues.\n",
            "*   **Perception:**  Understanding and interpreting sensory data (like images, sound, text).\n",
            "*   **Natural Language Processing (NLP):** Understanding and generating human language.\n",
            "\n",
            "**The Building Blocks:**\n",
            "\n",
            "Here are some of the key components and techniques used in AI:\n",
            "\n",
            "1.  **Data:** This is the fuel for AI.  The more relevant and high-quality data you feed an AI system, the better it will perform.  Data comes in many forms:\n",
            "    *   **Images:**  Used for image recognition (like identifying objects in a picture).\n",
            "    *   **Text:**  Used for natural language processing (like translating languages or understanding sentiment).\n",
            "    *   **Audio:** Used for speech recognition (like voice assistants) and music generation.\n",
            "    *   **Numerical Data:** Used for predictions, analysis, and optimization (like predicting stock prices or optimizing supply chains).\n",
            "\n",
            "2.  **Algorithms:** These are the sets of instructions that tell the computer *how* to process the data and accomplish a specific task.  Think of them as recipes.  There are many different types of algorithms, each suited for different purposes.  Some of the most common include:\n",
            "\n",
            "    *   **Machine Learning (ML):** This is a huge area, and often used interchangeably with AI, though it's really a *subset* of AI.  ML algorithms allow computers to learn from data *without* being explicitly programmed.  Instead, they find patterns and relationships in the data.  Key types of ML include:\n",
            "\n",
            "        *   **Supervised Learning:** The algorithm is trained on a labeled dataset, where the correct output is already known (e.g., images of cats and dogs, where each image is labeled as either \"cat\" or \"dog\").  The algorithm learns to predict the correct label for new, unseen images.\n",
            "        *   **Unsupervised Learning:** The algorithm is trained on an unlabeled dataset.  It tries to find patterns and structures in the data on its own (e.g., grouping customers into segments based on their purchasing behavior).\n",
            "        *   **Reinforcement Learning:** The algorithm learns by trial and error, receiving rewards or penalties for its actions.  It tries to maximize its rewards over time (e.g., training a computer to play a game).\n",
            "\n",
            "    *   **Deep Learning (DL):**  This is a *subset* of machine learning that uses artificial neural networks with multiple layers (hence \"deep\").  These networks are inspired by the structure of the human brain and are very good at learning complex patterns from large amounts of data.  Deep learning is behind many recent AI breakthroughs, like image recognition, natural language processing, and self-driving cars.\n",
            "\n",
            "    *   **Rule-Based Systems:**  These systems rely on a set of pre-defined rules to make decisions.  For example, a rule could be: \"IF the temperature is below 0 degrees Celsius AND it is raining, THEN predict that there will be ice on the roads.\" While less \"intelligent\" than machine learning, rule-based systems are still used for many tasks.\n",
            "\n",
            "3.  **Neural Networks:**  As mentioned above, neural networks are a key component of deep learning. They consist of interconnected nodes (neurons) organized in layers.  Data flows through the network, and each connection between neurons has a \"weight\" associated with it. During training, the weights are adjusted to improve the network's accuracy. The more layers a neural network has, the more complex patterns it can learn.\n",
            "\n",
            "4.  **Hardware:** The hardware that runs AI algorithms is also crucial.  Training complex models, especially deep learning models, requires a lot of computational power.  Graphics Processing Units (GPUs) are often used because they are well-suited for parallel processing, which is essential for training neural networks.  Specialized AI chips are also being developed to further accelerate AI computations.\n",
            "\n",
            "**The AI Process (Simplified):**\n",
            "\n",
            "1.  **Data Collection & Preparation:** Gathering relevant data and cleaning it to remove errors and inconsistencies.  This often involves a lot of work!\n",
            "2.  **Model Selection:** Choosing the right algorithm or model for the task.\n",
            "3.  **Training:** Feeding the data into the algorithm and allowing it to learn.  This involves adjusting the algorithm's parameters to minimize errors.\n",
            "4.  **Testing & Evaluation:**  Evaluating the model's performance on a separate dataset to ensure it generalizes well to new data.\n",
            "5.  **Deployment:**  Putting the trained model into use, either as part of an application or as a standalone service.\n",
            "6.  **Monitoring & Retraining:** Continuously monitoring the model's performance and retraining it with new data to maintain its accuracy.\n",
            "\n",
            "**Examples to help understand:**\n",
            "\n",
            "*   **Spam Filtering:** An AI spam filter learns to identify spam emails by analyzing the content of many emails (both spam and not spam).  It looks for patterns like specific words, phrases, or sender addresses that are common in spam.\n",
            "*   **Image Recognition:**  An AI image recognition system can be trained to identify objects in images.  For example, it can be trained to recognize faces, cars, or animals.\n",
            "*   **Recommendation Systems:**  AI-powered recommendation systems analyze your past behavior (e.g., what you've watched, bought, or liked) to recommend new items that you might be interested in.\n",
            "\n",
            "**Important Considerations:**\n",
            "\n",
            "*   **Bias:** AI models can be biased if the data they are trained on is biased.  This can lead to unfair or discriminatory outcomes.  It's important to be aware of potential biases and to take steps to mitigate them.\n",
            "*   **Explainability:**  Some AI models, especially deep learning models, can be difficult to understand.  It can be hard to explain *why* the model made a particular decision. This is a challenge for applications where transparency and accountability are important.\n",
            "*   **Ethics:**  AI raises a number of ethical concerns, such as the potential for job displacement, the misuse of AI for malicious purposes, and the impact of AI on society.\n",
            "\n",
            "**In Summary:**\n",
            "\n",
            "AI is a complex and rapidly evolving field.  It involves using data, algorithms, and hardware to enable computers to perform tasks that typically require human intelligence.  While AI has made significant progress in recent years, there are still many challenges to overcome.  Understanding the basic principles of AI is essential for navigating the increasingly AI-powered world.\n",
            "\n"
          ]
        }
      ]
    },
    {
      "cell_type": "code",
      "source": [
        "from bs4 import BeautifulSoup\n",
        "\n",
        "def summarize_page(url):\n",
        "    try:\n",
        "        response = requests.get(url)\n",
        "        soup = BeautifulSoup(response.text, \"html.parser\")\n",
        "\n",
        "        paragraphs = soup.find_all(\"p\")\n",
        "        text = ' '.join([p.text for p in paragraphs if len(p.text) > 50])[:3000]\n",
        "\n",
        "        return ask_gemini(f\"Summarize this article in 3 sentences:\\n{text}\")\n",
        "\n",
        "    except Exception as e:\n",
        "        return f\"Error extracting content: {str(e)}\"\n",
        "\n",
        "# Test Summarization\n",
        "print(summarize_page(\"https://www.bbc.com/news/technology\"))\n"
      ],
      "metadata": {
        "id": "pNkT98Uip3jg",
        "outputId": "4a36157a-3c64-44ca-e0a6-390475c24866",
        "colab": {
          "base_uri": "https://localhost:8080/"
        }
      },
      "execution_count": null,
      "outputs": [
        {
          "output_type": "stream",
          "name": "stdout",
          "text": [
            "This BBC article covers a wide range of tech and science news, from Noland Arbaugh's experience as the first Neuralink patient to advancements in AI and robotics. It also explores scientific topics such as the impact of space travel on astronauts, solutions for drought-resistant crops, and the potential dangers of bacteria in water bottles. Furthermore, the article touches on various social and cultural trends, including the popularity of TikTok creators and the use of rare earth minerals.\n",
            "\n"
          ]
        }
      ]
    },
    {
      "cell_type": "code",
      "source": [
        "import gradio as gr\n",
        "\n",
        "def search_and_summarize(query):\n",
        "    title, url = google_search(query)\n",
        "    if title and url:\n",
        "        summary = summarize_page(url)\n",
        "        return f\"**Top Result:** {title}\\n\\n**Summary:** {summary}\\n\\n**Read more:** {url}\"\n",
        "    return \"No results found.\"\n",
        "\n",
        "gr.Interface(fn=search_and_summarize, inputs=\"text\", outputs=\"text\").launch(share=True)\n"
      ],
      "metadata": {
        "id": "l5gXuXaup5GZ",
        "outputId": "1790a162-b149-400e-ab58-c639bb828b21",
        "colab": {
          "base_uri": "https://localhost:8080/",
          "height": 611
        }
      },
      "execution_count": null,
      "outputs": [
        {
          "output_type": "stream",
          "name": "stdout",
          "text": [
            "Colab notebook detected. To show errors in colab notebook, set debug=True in launch()\n",
            "* Running on public URL: https://9678bf728bc42e678f.gradio.live\n",
            "\n",
            "This share link expires in 72 hours. For free permanent hosting and GPU upgrades, run `gradio deploy` from the terminal in the working directory to deploy to Hugging Face Spaces (https://huggingface.co/spaces)\n"
          ]
        },
        {
          "output_type": "display_data",
          "data": {
            "text/plain": [
              "<IPython.core.display.HTML object>"
            ],
            "text/html": [
              "<div><iframe src=\"https://9678bf728bc42e678f.gradio.live\" width=\"100%\" height=\"500\" allow=\"autoplay; camera; microphone; clipboard-read; clipboard-write;\" frameborder=\"0\" allowfullscreen></iframe></div>"
            ]
          },
          "metadata": {}
        },
        {
          "output_type": "execute_result",
          "data": {
            "text/plain": []
          },
          "metadata": {},
          "execution_count": 7
        }
      ]
    }
  ]
}